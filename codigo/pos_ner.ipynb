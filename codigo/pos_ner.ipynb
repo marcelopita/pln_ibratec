{
 "cells": [
  {
   "cell_type": "code",
   "execution_count": 13,
   "metadata": {},
   "outputs": [],
   "source": [
    "# Bibliotecas\n",
    "import pandas as pd\n",
    "import spacy"
   ]
  },
  {
   "cell_type": "markdown",
   "metadata": {},
   "source": [
    "# Tokenização"
   ]
  },
  {
   "cell_type": "code",
   "execution_count": 25,
   "metadata": {},
   "outputs": [],
   "source": [
    "# Modelo de linguagem Português\n",
    "nlp = spacy.load('pt_core_news_sm')"
   ]
  },
  {
   "cell_type": "code",
   "execution_count": 26,
   "metadata": {},
   "outputs": [],
   "source": [
    "# Textos de entrada\n",
    "proposicoes = pd.read_csv(\"../dados/proposicoes.csv\")\n",
    "proposicoes = list(proposicoes['texto'])"
   ]
  },
  {
   "cell_type": "code",
   "execution_count": 27,
   "metadata": {},
   "outputs": [],
   "source": [
    "# Tokenização dos textos\n",
    "textos_tokenizados = []\n",
    "for texto in proposicoes:\n",
    "    texto_tokenizado = nlp(texto)\n",
    "    textos_tokenizados.append(texto_tokenizado)"
   ]
  },
  {
   "cell_type": "markdown",
   "metadata": {},
   "source": [
    "# Rotulação de partes da fala"
   ]
  },
  {
   "cell_type": "code",
   "execution_count": 45,
   "metadata": {},
   "outputs": [
    {
     "data": {
      "text/plain": [
       "[('Você', 'PRON'),\n",
       " ('fez', 'VERB'),\n",
       " ('o', 'DET'),\n",
       " ('trabalho', 'NOUN'),\n",
       " ('que', 'PRON'),\n",
       " ('eu', 'PRON'),\n",
       " ('pedi', 'VERB'),\n",
       " (',', 'PUNCT'),\n",
       " ('João', 'PROPN'),\n",
       " ('?', 'PUNCT')]"
      ]
     },
     "execution_count": 45,
     "metadata": {},
     "output_type": "execute_result"
    }
   ],
   "source": [
    "# Exemplo\n",
    "texto_exemplo = \"Você fez o trabalho que eu pedi, João?\"\n",
    "doc = nlp(texto_exemplo)\n",
    "[(token.text, token.pos_) for token in doc]"
   ]
  },
  {
   "cell_type": "code",
   "execution_count": 28,
   "metadata": {},
   "outputs": [],
   "source": [
    "# Identificação de partes da fala\n",
    "textos_partes_fala = []\n",
    "for tt in textos_tokenizados:\n",
    "    textos_partes_fala.append([(p.text, p.pos_) for p in tt])"
   ]
  },
  {
   "cell_type": "code",
   "execution_count": 38,
   "metadata": {},
   "outputs": [
    {
     "data": {
      "text/plain": [
       "[('Altera', 'VERB'),\n",
       " ('a', 'DET'),\n",
       " ('Lei', 'PROPN'),\n",
       " ('nº', 'NOUN'),\n",
       " ('12.715', 'NUM'),\n",
       " (',', 'PUNCT'),\n",
       " ('de', 'ADP'),\n",
       " ('17', 'NUM'),\n",
       " ('de', 'ADP'),\n",
       " ('setembro', 'NOUN'),\n",
       " ('de', 'ADP'),\n",
       " ('2012', 'NUM'),\n",
       " (',', 'PUNCT'),\n",
       " ('que', 'PRON'),\n",
       " ('institui', 'VERB'),\n",
       " ('o', 'DET'),\n",
       " ('Programa', 'PROPN'),\n",
       " ('de', 'ADP'),\n",
       " ('Incentivo', 'PROPN'),\n",
       " ('à', 'PROPN'),\n",
       " ('Inovação', 'PROPN'),\n",
       " ('Tecnológica', 'PROPN'),\n",
       " ('e', 'X'),\n",
       " ('Adensamento', 'PROPN'),\n",
       " ('da', 'ADP'),\n",
       " ('Cadeia', 'PROPN'),\n",
       " ('Produtiva', 'PROPN'),\n",
       " ('de', 'ADP'),\n",
       " ('Veículos', 'PROPN'),\n",
       " ('Automotores', 'PROPN'),\n",
       " ('-', 'PUNCT'),\n",
       " ('Inovar-Auto', 'PROPN'),\n",
       " ('.', 'PUNCT')]"
      ]
     },
     "execution_count": 38,
     "metadata": {},
     "output_type": "execute_result"
    }
   ],
   "source": [
    "textos_partes_fala[0]"
   ]
  },
  {
   "cell_type": "code",
   "execution_count": 35,
   "metadata": {},
   "outputs": [],
   "source": [
    "# Filtragem de partes da fala de interesse: NOUN, PROPN, ADJ, VERB\n",
    "proposicoes_filtradas = []\n",
    "for t in textos_partes_fala:\n",
    "    texto_filtrado = []\n",
    "    for palavra, parte_fala in t:\n",
    "        if parte_fala in ['NOUN', 'PROPN', 'ADJ', 'VERB']:\n",
    "            texto_filtrado.append(palavra)\n",
    "    proposicoes_filtradas.append(\" \".join(texto_filtrado))"
   ]
  },
  {
   "cell_type": "code",
   "execution_count": 43,
   "metadata": {
    "scrolled": true
   },
   "outputs": [
    {
     "data": {
      "text/plain": [
       "'Altera Lei Complementar nº maio estabelece normas finanças públicas voltadas responsabilidade gestão fiscal dá providências regulamentar transição administrativa dos Poderes Executivos'"
      ]
     },
     "execution_count": 43,
     "metadata": {},
     "output_type": "execute_result"
    }
   ],
   "source": [
    "proposicoes_filtradas[2001]"
   ]
  },
  {
   "cell_type": "markdown",
   "metadata": {},
   "source": [
    "# Reconhecimento de entidades nomeadas"
   ]
  },
  {
   "cell_type": "code",
   "execution_count": 55,
   "metadata": {},
   "outputs": [
    {
     "data": {
      "text/plain": [
       "[(Diario de Pernambuco, 'PER'),\n",
       " (Recife, 'LOC'),\n",
       " (Pernambuco, 'LOC'),\n",
       " (Brasil, 'LOC'),\n",
       " (América Latina, 'LOC'),\n",
       " (Antonino José de Miranda Falcão, 'PER'),\n",
       " (Diario de Pernambuco, 'LOC'),\n",
       " (Recife, 'LOC')]"
      ]
     },
     "execution_count": 55,
     "metadata": {},
     "output_type": "execute_result"
    }
   ],
   "source": [
    "# Exemplo\n",
    "texto_exemplo = \"Diario de Pernambuco é um jornal publicado na cidade do Recife, no estado de Pernambuco, Brasil. É o mais antigo periódico em circulação da América Latina, fundado em 7 de novembro de 1825 pelo tipógrafo Antonino José de Miranda Falcão. Quando o Diario de Pernambuco foi fundado, o Recife ainda não era a capital do estado, fato que só ocorreu um ano e três meses depois.\"\n",
    "doc = nlp(texto_exemplo)\n",
    "[(entity, entity.label_) for entity in doc.ents]"
   ]
  },
  {
   "cell_type": "code",
   "execution_count": 71,
   "metadata": {},
   "outputs": [
    {
     "name": "stdout",
     "output_type": "stream",
     "text": [
      "Inscreve o nome de Francisco José do Nascimento, conhecido como Dragão do Mar, no Livro dos Heróis da Pátria.\n",
      "\n",
      "[(Francisco José do Nascimento, 'PER'), (Dragão do Mar, 'LOC'), (Livro dos Heróis da Pátria, 'MISC')]\n"
     ]
    }
   ],
   "source": [
    "print(textos_tokenizados[200])\n",
    "print()\n",
    "print([(entity, entity.label_) for entity in textos_tokenizados[200].ents])"
   ]
  },
  {
   "cell_type": "code",
   "execution_count": 72,
   "metadata": {},
   "outputs": [
    {
     "name": "stdout",
     "output_type": "stream",
     "text": [
      "Altera o art. 5º da Lei nº 8.906, de 4 de julho de 1994, que dispõe sobre o Estatuto da Advocacia e a Ordem dos Advogados do Brasil (OAB), e os arts. 6º e 22 da Lei nº 9.784, de 29 de janeiro de 1999, que regula o processo administrativo no âmbito da Administração Pública Federal, para reduzir exigências e simplificar a prática de atos processuais por administrados e seus advogados, no âmbito do processo administrativo.\n",
      "\n",
      "[(Lei, 'MISC'), (Estatuto da Advocacia, 'MISC'), (Ordem dos Advogados do Brasil, 'ORG'), (Lei, 'MISC'), (Administração Pública Federal, 'LOC')]\n"
     ]
    }
   ],
   "source": [
    "print(textos_tokenizados[15])\n",
    "print()\n",
    "print([(entity, entity.label_) for entity in textos_tokenizados[15].ents])"
   ]
  }
 ],
 "metadata": {
  "kernelspec": {
   "display_name": "Python 3",
   "language": "python",
   "name": "python3"
  },
  "language_info": {
   "codemirror_mode": {
    "name": "ipython",
    "version": 3
   },
   "file_extension": ".py",
   "mimetype": "text/x-python",
   "name": "python",
   "nbconvert_exporter": "python",
   "pygments_lexer": "ipython3",
   "version": "3.7.3"
  }
 },
 "nbformat": 4,
 "nbformat_minor": 2
}
