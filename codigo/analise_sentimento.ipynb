{
 "cells": [
  {
   "cell_type": "code",
   "execution_count": 1,
   "metadata": {},
   "outputs": [],
   "source": [
    "# Bibliotecas\n",
    "import pandas as pd\n",
    "import spacy\n",
    "import nltk\n",
    "\n",
    "\n",
    "nlp = spacy.load(\"pt_core_news_sm\")"
   ]
  },
  {
   "cell_type": "markdown",
   "metadata": {},
   "source": [
    "# Dados (IMDB traduzido)"
   ]
  },
  {
   "cell_type": "code",
   "execution_count": 2,
   "metadata": {},
   "outputs": [],
   "source": [
    "imdb = pd.read_csv(\"../dados/imdb_traduzido.csv\", sep=\"|\")"
   ]
  },
  {
   "cell_type": "code",
   "execution_count": 3,
   "metadata": {},
   "outputs": [
    {
     "name": "stdout",
     "output_type": "stream",
     "text": [
      "Número de sentimentos positivos: 500\n",
      "Número de sentimentos negativos: 500\n"
     ]
    }
   ],
   "source": [
    "print(\"Número de sentimentos positivos:\",\n",
    "      len(imdb[imdb['sentimento']==1]))\n",
    "print(\"Número de sentimentos negativos:\",\n",
    "      len(imdb[imdb['sentimento']==0]))"
   ]
  },
  {
   "cell_type": "code",
   "execution_count": 4,
   "metadata": {
    "scrolled": true
   },
   "outputs": [
    {
     "data": {
      "text/html": [
       "<div>\n",
       "<style scoped>\n",
       "    .dataframe tbody tr th:only-of-type {\n",
       "        vertical-align: middle;\n",
       "    }\n",
       "\n",
       "    .dataframe tbody tr th {\n",
       "        vertical-align: top;\n",
       "    }\n",
       "\n",
       "    .dataframe thead th {\n",
       "        text-align: right;\n",
       "    }\n",
       "</style>\n",
       "<table border=\"1\" class=\"dataframe\">\n",
       "  <thead>\n",
       "    <tr style=\"text-align: right;\">\n",
       "      <th></th>\n",
       "      <th>texto</th>\n",
       "      <th>sentimento</th>\n",
       "    </tr>\n",
       "  </thead>\n",
       "  <tbody>\n",
       "    <tr>\n",
       "      <th>0</th>\n",
       "      <td>Um muito, muito, muito lento, filme sem rumo s...</td>\n",
       "      <td>0</td>\n",
       "    </tr>\n",
       "    <tr>\n",
       "      <th>1</th>\n",
       "      <td>Não tenho certeza que foi mais perdido - os pe...</td>\n",
       "      <td>0</td>\n",
       "    </tr>\n",
       "    <tr>\n",
       "      <th>2</th>\n",
       "      <td>A tentativa artiness com ângulos de câmera pre...</td>\n",
       "      <td>0</td>\n",
       "    </tr>\n",
       "    <tr>\n",
       "      <th>3</th>\n",
       "      <td>Muito pouco de música ou qualquer coisa para f...</td>\n",
       "      <td>0</td>\n",
       "    </tr>\n",
       "    <tr>\n",
       "      <th>4</th>\n",
       "      <td>A melhor cena do filme foi quando Gerardo está...</td>\n",
       "      <td>1</td>\n",
       "    </tr>\n",
       "    <tr>\n",
       "      <th>5</th>\n",
       "      <td>O resto do filme carece de arte, encanto, o qu...</td>\n",
       "      <td>0</td>\n",
       "    </tr>\n",
       "    <tr>\n",
       "      <th>6</th>\n",
       "      <td>Desperdiçado duas horas.</td>\n",
       "      <td>0</td>\n",
       "    </tr>\n",
       "    <tr>\n",
       "      <th>7</th>\n",
       "      <td>Viu o filme hoje e pensei que era um esforço b...</td>\n",
       "      <td>1</td>\n",
       "    </tr>\n",
       "    <tr>\n",
       "      <th>8</th>\n",
       "      <td>Um pouco previsível.</td>\n",
       "      <td>0</td>\n",
       "    </tr>\n",
       "    <tr>\n",
       "      <th>9</th>\n",
       "      <td>Adorei a fundição de Jimmy Buffet como o profe...</td>\n",
       "      <td>1</td>\n",
       "    </tr>\n",
       "    <tr>\n",
       "      <th>10</th>\n",
       "      <td>E essas corujas do bebê foram adorável.</td>\n",
       "      <td>1</td>\n",
       "    </tr>\n",
       "    <tr>\n",
       "      <th>11</th>\n",
       "      <td>O filme mostrou um monte de Florida no melhor ...</td>\n",
       "      <td>1</td>\n",
       "    </tr>\n",
       "    <tr>\n",
       "      <th>12</th>\n",
       "      <td>As canções foram os melhores e os Muppets eram...</td>\n",
       "      <td>1</td>\n",
       "    </tr>\n",
       "    <tr>\n",
       "      <th>13</th>\n",
       "      <td>Foi tão legal.</td>\n",
       "      <td>1</td>\n",
       "    </tr>\n",
       "    <tr>\n",
       "      <th>14</th>\n",
       "      <td>Este é um filme muito direito no caso que ofer...</td>\n",
       "      <td>1</td>\n",
       "    </tr>\n",
       "    <tr>\n",
       "      <th>15</th>\n",
       "      <td>Ele teve algum ator média da pessoa principal,...</td>\n",
       "      <td>0</td>\n",
       "    </tr>\n",
       "    <tr>\n",
       "      <th>16</th>\n",
       "      <td>Esta revisão é muito atrasada, pois considero ...</td>\n",
       "      <td>1</td>\n",
       "    </tr>\n",
       "    <tr>\n",
       "      <th>17</th>\n",
       "      <td>Vou colocar esta jóia contra qualquer filme em...</td>\n",
       "      <td>1</td>\n",
       "    </tr>\n",
       "    <tr>\n",
       "      <th>18</th>\n",
       "      <td>É praticamente perfeito em todos eles ?? uma v...</td>\n",
       "      <td>1</td>\n",
       "    </tr>\n",
       "    <tr>\n",
       "      <th>19</th>\n",
       "      <td>A estrutura deste filme é facilmente o mais fi...</td>\n",
       "      <td>1</td>\n",
       "    </tr>\n",
       "    <tr>\n",
       "      <th>20</th>\n",
       "      <td>Não consigo pensar em nenhum outro filme em qu...</td>\n",
       "      <td>1</td>\n",
       "    </tr>\n",
       "    <tr>\n",
       "      <th>21</th>\n",
       "      <td>Em outras palavras, o nível de conteúdo deste ...</td>\n",
       "      <td>1</td>\n",
       "    </tr>\n",
       "    <tr>\n",
       "      <th>22</th>\n",
       "      <td>Como é que alguém no seu perfeito juízo pode p...</td>\n",
       "      <td>1</td>\n",
       "    </tr>\n",
       "    <tr>\n",
       "      <th>23</th>\n",
       "      <td>É simplesmente a forma mais elevada, mais supe...</td>\n",
       "      <td>1</td>\n",
       "    </tr>\n",
       "    <tr>\n",
       "      <th>24</th>\n",
       "      <td>Sim, este filme requer uma quantidade bastante...</td>\n",
       "      <td>1</td>\n",
       "    </tr>\n",
       "    <tr>\n",
       "      <th>25</th>\n",
       "      <td>Esta curta-metragem, certamente, não faz rodei...</td>\n",
       "      <td>0</td>\n",
       "    </tr>\n",
       "    <tr>\n",
       "      <th>26</th>\n",
       "      <td>Gráficos está longe de ser a melhor parte do j...</td>\n",
       "      <td>0</td>\n",
       "    </tr>\n",
       "    <tr>\n",
       "      <th>27</th>\n",
       "      <td>Este é o número um melhor jogo TH na série.</td>\n",
       "      <td>1</td>\n",
       "    </tr>\n",
       "    <tr>\n",
       "      <th>28</th>\n",
       "      <td>Merece amor forte.</td>\n",
       "      <td>1</td>\n",
       "    </tr>\n",
       "    <tr>\n",
       "      <th>29</th>\n",
       "      <td>É um jogo louco.</td>\n",
       "      <td>1</td>\n",
       "    </tr>\n",
       "    <tr>\n",
       "      <th>...</th>\n",
       "      <td>...</td>\n",
       "      <td>...</td>\n",
       "    </tr>\n",
       "    <tr>\n",
       "      <th>970</th>\n",
       "      <td>Suficiente não pode ser dito da animação notáv...</td>\n",
       "      <td>1</td>\n",
       "    </tr>\n",
       "    <tr>\n",
       "      <th>971</th>\n",
       "      <td>O estilo de arte tem a aparência de desenhos d...</td>\n",
       "      <td>1</td>\n",
       "    </tr>\n",
       "    <tr>\n",
       "      <th>972</th>\n",
       "      <td>Se você agir de tal filme, você deve estar fel...</td>\n",
       "      <td>0</td>\n",
       "    </tr>\n",
       "    <tr>\n",
       "      <th>973</th>\n",
       "      <td>Isto se quer navegar na pequena onda de filmes...</td>\n",
       "      <td>0</td>\n",
       "    </tr>\n",
       "    <tr>\n",
       "      <th>974</th>\n",
       "      <td>Se você ainda não se engasgou em seu próprio v...</td>\n",
       "      <td>0</td>\n",
       "    </tr>\n",
       "    <tr>\n",
       "      <th>975</th>\n",
       "      <td>Ainda assim, faz-se de tudo isso com um super ...</td>\n",
       "      <td>1</td>\n",
       "    </tr>\n",
       "    <tr>\n",
       "      <th>976</th>\n",
       "      <td>Basta considerar o excelente história, atuação...</td>\n",
       "      <td>1</td>\n",
       "    </tr>\n",
       "    <tr>\n",
       "      <th>977</th>\n",
       "      <td>Em vez disso, temos um furo fest sobre um whin...</td>\n",
       "      <td>0</td>\n",
       "    </tr>\n",
       "    <tr>\n",
       "      <th>978</th>\n",
       "      <td>Então eu assisti-lo novamente dois domingos at...</td>\n",
       "      <td>1</td>\n",
       "    </tr>\n",
       "    <tr>\n",
       "      <th>979</th>\n",
       "      <td>É uma TV Movie muito bem atuado e feito.</td>\n",
       "      <td>1</td>\n",
       "    </tr>\n",
       "    <tr>\n",
       "      <th>980</th>\n",
       "      <td>Judith Light é uma das minhas atrizes favorita...</td>\n",
       "      <td>1</td>\n",
       "    </tr>\n",
       "    <tr>\n",
       "      <th>981</th>\n",
       "      <td>Eu continuo assistindo mais e mais.</td>\n",
       "      <td>1</td>\n",
       "    </tr>\n",
       "    <tr>\n",
       "      <th>982</th>\n",
       "      <td>É um filme triste, mas muito bom.</td>\n",
       "      <td>1</td>\n",
       "    </tr>\n",
       "    <tr>\n",
       "      <th>983</th>\n",
       "      <td>Se você ainda não viu este filme, eu definitiv...</td>\n",
       "      <td>1</td>\n",
       "    </tr>\n",
       "    <tr>\n",
       "      <th>984</th>\n",
       "      <td>Ela é tão linda, como de costume, este cutie!</td>\n",
       "      <td>1</td>\n",
       "    </tr>\n",
       "    <tr>\n",
       "      <th>985</th>\n",
       "      <td>Ainda é bastante interessante e divertido de s...</td>\n",
       "      <td>1</td>\n",
       "    </tr>\n",
       "    <tr>\n",
       "      <th>986</th>\n",
       "      <td>;) Recomendar com confiança!</td>\n",
       "      <td>1</td>\n",
       "    </tr>\n",
       "    <tr>\n",
       "      <th>987</th>\n",
       "      <td>Este filme é bem equilibrado com comédia e dra...</td>\n",
       "      <td>1</td>\n",
       "    </tr>\n",
       "    <tr>\n",
       "      <th>988</th>\n",
       "      <td>Foi um tumulto para ver Hugo Weaving desempenh...</td>\n",
       "      <td>1</td>\n",
       "    </tr>\n",
       "    <tr>\n",
       "      <th>989</th>\n",
       "      <td>:) De qualquer forma, a trama fluiu sem proble...</td>\n",
       "      <td>1</td>\n",
       "    </tr>\n",
       "    <tr>\n",
       "      <th>990</th>\n",
       "      <td>A seqüência de esta jóia de abertura é um clás...</td>\n",
       "      <td>1</td>\n",
       "    </tr>\n",
       "    <tr>\n",
       "      <th>991</th>\n",
       "      <td>Os fãs do gênero estarão no céu.</td>\n",
       "      <td>1</td>\n",
       "    </tr>\n",
       "    <tr>\n",
       "      <th>992</th>\n",
       "      <td>Lange tornou-se uma grande atriz.</td>\n",
       "      <td>1</td>\n",
       "    </tr>\n",
       "    <tr>\n",
       "      <th>993</th>\n",
       "      <td>Parecia uma história maravilhosa.</td>\n",
       "      <td>1</td>\n",
       "    </tr>\n",
       "    <tr>\n",
       "      <th>994</th>\n",
       "      <td>Eu nunca saí de um filme mais rápido.</td>\n",
       "      <td>0</td>\n",
       "    </tr>\n",
       "    <tr>\n",
       "      <th>995</th>\n",
       "      <td>Eu só fiquei entediado assistindo Jessice Lang...</td>\n",
       "      <td>0</td>\n",
       "    </tr>\n",
       "    <tr>\n",
       "      <th>996</th>\n",
       "      <td>Infelizmente, alguma virtude no trabalho de pr...</td>\n",
       "      <td>0</td>\n",
       "    </tr>\n",
       "    <tr>\n",
       "      <th>997</th>\n",
       "      <td>Em uma palavra, é embaraçoso.</td>\n",
       "      <td>0</td>\n",
       "    </tr>\n",
       "    <tr>\n",
       "      <th>998</th>\n",
       "      <td>Excepcionalmente mau!</td>\n",
       "      <td>0</td>\n",
       "    </tr>\n",
       "    <tr>\n",
       "      <th>999</th>\n",
       "      <td>Todos em toda a sua um insulto à inteligência ...</td>\n",
       "      <td>0</td>\n",
       "    </tr>\n",
       "  </tbody>\n",
       "</table>\n",
       "<p>1000 rows × 2 columns</p>\n",
       "</div>"
      ],
      "text/plain": [
       "                                                 texto  sentimento\n",
       "0    Um muito, muito, muito lento, filme sem rumo s...           0\n",
       "1    Não tenho certeza que foi mais perdido - os pe...           0\n",
       "2    A tentativa artiness com ângulos de câmera pre...           0\n",
       "3    Muito pouco de música ou qualquer coisa para f...           0\n",
       "4    A melhor cena do filme foi quando Gerardo está...           1\n",
       "5    O resto do filme carece de arte, encanto, o qu...           0\n",
       "6                            Desperdiçado duas horas.            0\n",
       "7    Viu o filme hoje e pensei que era um esforço b...           1\n",
       "8                                Um pouco previsível.            0\n",
       "9    Adorei a fundição de Jimmy Buffet como o profe...           1\n",
       "10            E essas corujas do bebê foram adorável.            1\n",
       "11   O filme mostrou um monte de Florida no melhor ...           1\n",
       "12   As canções foram os melhores e os Muppets eram...           1\n",
       "13                                     Foi tão legal.            1\n",
       "14   Este é um filme muito direito no caso que ofer...           1\n",
       "15   Ele teve algum ator média da pessoa principal,...           0\n",
       "16   Esta revisão é muito atrasada, pois considero ...           1\n",
       "17   Vou colocar esta jóia contra qualquer filme em...           1\n",
       "18   É praticamente perfeito em todos eles ?? uma v...           1\n",
       "19   A estrutura deste filme é facilmente o mais fi...           1\n",
       "20   Não consigo pensar em nenhum outro filme em qu...           1\n",
       "21   Em outras palavras, o nível de conteúdo deste ...           1\n",
       "22   Como é que alguém no seu perfeito juízo pode p...           1\n",
       "23   É simplesmente a forma mais elevada, mais supe...           1\n",
       "24   Sim, este filme requer uma quantidade bastante...           1\n",
       "25   Esta curta-metragem, certamente, não faz rodei...           0\n",
       "26   Gráficos está longe de ser a melhor parte do j...           0\n",
       "27        Este é o número um melhor jogo TH na série.            1\n",
       "28                                 Merece amor forte.            1\n",
       "29                                   É um jogo louco.            1\n",
       "..                                                 ...         ...\n",
       "970  Suficiente não pode ser dito da animação notáv...           1\n",
       "971  O estilo de arte tem a aparência de desenhos d...           1\n",
       "972  Se você agir de tal filme, você deve estar fel...           0\n",
       "973  Isto se quer navegar na pequena onda de filmes...           0\n",
       "974  Se você ainda não se engasgou em seu próprio v...           0\n",
       "975  Ainda assim, faz-se de tudo isso com um super ...           1\n",
       "976  Basta considerar o excelente história, atuação...           1\n",
       "977  Em vez disso, temos um furo fest sobre um whin...           0\n",
       "978  Então eu assisti-lo novamente dois domingos at...           1\n",
       "979          É uma TV Movie muito bem atuado e feito.            1\n",
       "980  Judith Light é uma das minhas atrizes favorita...           1\n",
       "981               Eu continuo assistindo mais e mais.            1\n",
       "982                 É um filme triste, mas muito bom.            1\n",
       "983  Se você ainda não viu este filme, eu definitiv...           1\n",
       "984     Ela é tão linda, como de costume, este cutie!            1\n",
       "985  Ainda é bastante interessante e divertido de s...           1\n",
       "986                      ;) Recomendar com confiança!            1\n",
       "987  Este filme é bem equilibrado com comédia e dra...           1\n",
       "988  Foi um tumulto para ver Hugo Weaving desempenh...           1\n",
       "989  :) De qualquer forma, a trama fluiu sem proble...           1\n",
       "990  A seqüência de esta jóia de abertura é um clás...           1\n",
       "991                  Os fãs do gênero estarão no céu.            1\n",
       "992                 Lange tornou-se uma grande atriz.            1\n",
       "993                 Parecia uma história maravilhosa.            1\n",
       "994             Eu nunca saí de um filme mais rápido.            0\n",
       "995  Eu só fiquei entediado assistindo Jessice Lang...           0\n",
       "996  Infelizmente, alguma virtude no trabalho de pr...           0\n",
       "997                     Em uma palavra, é embaraçoso.            0\n",
       "998                             Excepcionalmente mau!            0\n",
       "999  Todos em toda a sua um insulto à inteligência ...           0\n",
       "\n",
       "[1000 rows x 2 columns]"
      ]
     },
     "execution_count": 4,
     "metadata": {},
     "output_type": "execute_result"
    }
   ],
   "source": [
    "imdb"
   ]
  },
  {
   "cell_type": "markdown",
   "metadata": {},
   "source": [
    "# Normalização de texto"
   ]
  },
  {
   "cell_type": "code",
   "execution_count": 5,
   "metadata": {},
   "outputs": [],
   "source": [
    "# Transformar para minúsculas\n",
    "# Remoção de stopwords\n",
    "# Rotulação de partes da fala\n",
    "#     - Manter: substantivos, nomes próprios, adjetivos, verbos, advérbios\n",
    "#     - Alternativa 1: melhora só com substantivos, nomes próprios, adjetivos e advérbios?\n",
    "#     - Alternativa 2: melhora só com adjetivos e advérbios?\n",
    "# Redução das palavras (estemização ou lematização é melhor?)\n",
    "# Remoção de palavras de baixa frequência (< 3)\n",
    "# Remoção de palavras que aparecem na maioria dos documentos(> 50%)\n",
    "# Extra: identificar entidades nomeadas (imprimir na tela)"
   ]
  },
  {
   "cell_type": "code",
   "execution_count": null,
   "metadata": {},
   "outputs": [],
   "source": []
  },
  {
   "cell_type": "code",
   "execution_count": 6,
   "metadata": {},
   "outputs": [],
   "source": [
    "imdb['texto'] = imdb['texto'].map(str.lower)"
   ]
  },
  {
   "cell_type": "code",
   "execution_count": 7,
   "metadata": {},
   "outputs": [],
   "source": [
    "stopwords = nltk.corpus.stopwords.words('portuguese')\n",
    "\n",
    "def remover_stopwords(t):\n",
    "    return \" \".join([p for p in t.split() if p not in stopwords])\n",
    "    \n",
    "imdb['texto'] = imdb['texto'].map(remover_stopwords)"
   ]
  },
  {
   "cell_type": "code",
   "execution_count": null,
   "metadata": {},
   "outputs": [],
   "source": []
  },
  {
   "cell_type": "code",
   "execution_count": 8,
   "metadata": {},
   "outputs": [],
   "source": [
    "def manter_pos(t):\n",
    "    doc = nlp(t)\n",
    "    palavras_ok = [p.text for p in doc\\\n",
    "                   if p.pos_ in\\\n",
    "#                        ['ADJ', 'ADV']]\n",
    "                        ['NOUN', 'PROPN', 'ADJ', 'VERB', 'ADV']]\n",
    "    return \" \".join(palavras_ok)\n",
    "\n",
    "imdb['texto'] = imdb['texto'].map(manter_pos)"
   ]
  },
  {
   "cell_type": "code",
   "execution_count": null,
   "metadata": {},
   "outputs": [],
   "source": []
  },
  {
   "cell_type": "code",
   "execution_count": null,
   "metadata": {},
   "outputs": [],
   "source": []
  },
  {
   "cell_type": "code",
   "execution_count": null,
   "metadata": {},
   "outputs": [],
   "source": []
  },
  {
   "cell_type": "markdown",
   "metadata": {},
   "source": [
    "# Treinamento e teste + Representação"
   ]
  },
  {
   "cell_type": "code",
   "execution_count": 9,
   "metadata": {},
   "outputs": [],
   "source": [
    "# Textos e classes\n",
    "X = list(imdb['texto'])\n",
    "y = list(imdb['sentimento'])\n",
    "\n",
    "# Vocabulário\n",
    "vocabulario = set()\n",
    "for x in X:\n",
    "    for p in x.split():\n",
    "        vocabulario.add(p)\n",
    "vocabulario = list(vocabulario)\n",
    "vocabulario.sort()"
   ]
  },
  {
   "cell_type": "code",
   "execution_count": 10,
   "metadata": {},
   "outputs": [],
   "source": [
    "from sklearn.model_selection import train_test_split\n",
    "\n",
    "textos_trein, textos_teste, y_trein, y_teste = train_test_split(X, y, test_size=0.3)"
   ]
  },
  {
   "cell_type": "code",
   "execution_count": 11,
   "metadata": {},
   "outputs": [],
   "source": [
    "from sklearn.feature_extraction.text import TfidfVectorizer\n",
    "\n",
    "vetorizador_tfidf = TfidfVectorizer(lowercase=False, ngram_range=(1,2), vocabulary=vocabulario)\n",
    "X_trein = vetorizador_tfidf.fit_transform(textos_trein)\n",
    "X_teste = vetorizador_tfidf.transform(textos_teste)"
   ]
  },
  {
   "cell_type": "code",
   "execution_count": null,
   "metadata": {},
   "outputs": [],
   "source": []
  },
  {
   "cell_type": "markdown",
   "metadata": {},
   "source": [
    "# Classificador"
   ]
  },
  {
   "cell_type": "markdown",
   "metadata": {},
   "source": [
    "## Treinamento"
   ]
  },
  {
   "cell_type": "code",
   "execution_count": 12,
   "metadata": {},
   "outputs": [
    {
     "data": {
      "text/plain": [
       "MLPClassifier(activation='relu', alpha=0.1, batch_size='auto', beta_1=0.9,\n",
       "       beta_2=0.999, early_stopping=False, epsilon=1e-08,\n",
       "       hidden_layer_sizes=(100,), learning_rate='constant',\n",
       "       learning_rate_init=0.001, max_iter=1000, momentum=0.9,\n",
       "       n_iter_no_change=10, nesterovs_momentum=True, power_t=0.5,\n",
       "       random_state=None, shuffle=True, solver='adam', tol=0.0001,\n",
       "       validation_fraction=0.1, verbose=False, warm_start=False)"
      ]
     },
     "execution_count": 12,
     "metadata": {},
     "output_type": "execute_result"
    }
   ],
   "source": [
    "from sklearn.neural_network import MLPClassifier\n",
    "\n",
    "classificador = MLPClassifier(alpha=0.1, max_iter=1000)\n",
    "classificador.fit(X_trein, y_trein)"
   ]
  },
  {
   "cell_type": "markdown",
   "metadata": {},
   "source": [
    "## Avaliação"
   ]
  },
  {
   "cell_type": "code",
   "execution_count": 13,
   "metadata": {},
   "outputs": [],
   "source": [
    "score = classificador.score(X_teste, y_teste)"
   ]
  },
  {
   "cell_type": "code",
   "execution_count": 14,
   "metadata": {},
   "outputs": [
    {
     "data": {
      "text/plain": [
       "0.7533333333333333"
      ]
     },
     "execution_count": 14,
     "metadata": {},
     "output_type": "execute_result"
    }
   ],
   "source": [
    "score"
   ]
  },
  {
   "cell_type": "markdown",
   "metadata": {},
   "source": [
    "# Exemplo"
   ]
  },
  {
   "cell_type": "code",
   "execution_count": 43,
   "metadata": {},
   "outputs": [
    {
     "name": "stdout",
     "output_type": "stream",
     "text": [
      "filme terrível atores ruins cenas mal filmadas\n",
      "Predição: [0]\n",
      "Probabilidades: [[0.9945656 0.0054344]]\n"
     ]
    }
   ],
   "source": [
    "texto_exemplo = \"Esse filme é terrível, com atores ruins e cenas mal filmadas\"\n",
    "#texto_exemplo = \"Filmagens muito boas, e a atriz principal é espetacular\"\n",
    "texto_exemplo = texto_exemplo.lower()\n",
    "texto_exemplo = remover_stopwords(texto_exemplo)\n",
    "texto_exemplo = manter_pos(texto_exemplo)\n",
    "print(texto_exemplo)\n",
    "x = vetorizador_tfidf.transform([texto_exemplo])\n",
    "print(\"Predição:\", classificador.predict(x))\n",
    "print(\"Probabilidades:\", classificador.predict_proba(x))"
   ]
  },
  {
   "cell_type": "code",
   "execution_count": null,
   "metadata": {},
   "outputs": [],
   "source": []
  },
  {
   "cell_type": "code",
   "execution_count": 40,
   "metadata": {},
   "outputs": [],
   "source": []
  },
  {
   "cell_type": "code",
   "execution_count": null,
   "metadata": {},
   "outputs": [],
   "source": []
  }
 ],
 "metadata": {
  "kernelspec": {
   "display_name": "Python 3",
   "language": "python",
   "name": "python3"
  },
  "language_info": {
   "codemirror_mode": {
    "name": "ipython",
    "version": 3
   },
   "file_extension": ".py",
   "mimetype": "text/x-python",
   "name": "python",
   "nbconvert_exporter": "python",
   "pygments_lexer": "ipython3",
   "version": "3.7.3"
  }
 },
 "nbformat": 4,
 "nbformat_minor": 2
}
