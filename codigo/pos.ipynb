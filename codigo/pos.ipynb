{
 "cells": [
  {
   "cell_type": "code",
   "execution_count": 1,
   "metadata": {},
   "outputs": [],
   "source": [
    "import nltk\n",
    "import nltk.corpus"
   ]
  },
  {
   "cell_type": "code",
   "execution_count": 4,
   "metadata": {},
   "outputs": [],
   "source": [
    "sentencas = nltk.corpus.mac_morpho.tagged_sents()"
   ]
  },
  {
   "cell_type": "code",
   "execution_count": 5,
   "metadata": {},
   "outputs": [],
   "source": [
    "sentencas_lowercase = [[(p.lower(), t) for (p,t)\\\n",
    "                        in sentenca] for sentenca\\\n",
    "                       in sentencas if sentenca]"
   ]
  },
  {
   "cell_type": "code",
   "execution_count": 6,
   "metadata": {},
   "outputs": [],
   "source": [
    "sentencas_treinamento = sentencas_lowercase[5000:]\n",
    "sentencas_teste = sentencas_lowercase[:5000]"
   ]
  },
  {
   "cell_type": "code",
   "execution_count": 7,
   "metadata": {},
   "outputs": [
    {
     "name": "stdout",
     "output_type": "stream",
     "text": [
      "46397\n",
      "5000\n"
     ]
    }
   ],
   "source": [
    "print(len(sentencas_treinamento))\n",
    "print(len(sentencas_teste))"
   ]
  },
  {
   "cell_type": "code",
   "execution_count": 12,
   "metadata": {},
   "outputs": [
    {
     "data": {
      "text/plain": [
       "0.20843979451870578"
      ]
     },
     "execution_count": 12,
     "metadata": {},
     "output_type": "execute_result"
    }
   ],
   "source": [
    "# Rotulador base\n",
    "rotulador0 = nltk.DefaultTagger('N')\n",
    "rotulador0.evaluate(sentencas_teste)"
   ]
  },
  {
   "cell_type": "code",
   "execution_count": 15,
   "metadata": {},
   "outputs": [
    {
     "data": {
      "text/plain": [
       "0.8199797387554575"
      ]
     },
     "execution_count": 15,
     "metadata": {},
     "output_type": "execute_result"
    }
   ],
   "source": [
    "# Unigrama\n",
    "rotulador1 = nltk.UnigramTagger(sentencas_treinamento,\n",
    "                                backoff=rotulador0)\n",
    "rotulador1.evaluate(sentencas_teste)"
   ]
  },
  {
   "cell_type": "code",
   "execution_count": 16,
   "metadata": {},
   "outputs": [
    {
     "data": {
      "text/plain": [
       "0.8419891880261424"
      ]
     },
     "execution_count": 16,
     "metadata": {},
     "output_type": "execute_result"
    }
   ],
   "source": [
    "# Bigrama\n",
    "rotulador2 = nltk.BigramTagger(sentencas_treinamento,\n",
    "                               backoff=rotulador1)\n",
    "rotulador2.evaluate(sentencas_teste)"
   ]
  },
  {
   "cell_type": "code",
   "execution_count": 17,
   "metadata": {},
   "outputs": [
    {
     "data": {
      "text/plain": [
       "0.8421684910751908"
      ]
     },
     "execution_count": 17,
     "metadata": {},
     "output_type": "execute_result"
    }
   ],
   "source": [
    "# Trigrama\n",
    "rotulador3 = nltk.TrigramTagger(sentencas_treinamento,\n",
    "                                backoff=rotulador2)\n",
    "rotulador3.evaluate(sentencas_teste)"
   ]
  },
  {
   "cell_type": "code",
   "execution_count": 18,
   "metadata": {},
   "outputs": [
    {
     "data": {
      "text/plain": [
       "0.8399540984194436"
      ]
     },
     "execution_count": 18,
     "metadata": {},
     "output_type": "execute_result"
    }
   ],
   "source": [
    "# N-grama\n",
    "rotulador4 = nltk.NgramTagger(4, sentencas_treinamento,\n",
    "                              backoff=rotulador3)\n",
    "rotulador4.evaluate(sentencas_teste)"
   ]
  },
  {
   "cell_type": "code",
   "execution_count": 27,
   "metadata": {},
   "outputs": [
    {
     "data": {
      "text/plain": [
       "[('água', 'N'),\n",
       " ('mole', 'ADJ'),\n",
       " ('pedra', 'N'),\n",
       " ('dura', 'V'),\n",
       " ('tanto', 'ADV'),\n",
       " ('bate', 'V'),\n",
       " ('até', 'PREP'),\n",
       " ('que', 'KS'),\n",
       " ('fura', 'V')]"
      ]
     },
     "execution_count": 27,
     "metadata": {},
     "output_type": "execute_result"
    }
   ],
   "source": [
    "rotulador3.tag(\"Água mole pedra dura tanto bate até que fura\".lower().split())"
   ]
  }
 ],
 "metadata": {
  "kernelspec": {
   "display_name": "Python 3",
   "language": "python",
   "name": "python3"
  },
  "language_info": {
   "codemirror_mode": {
    "name": "ipython",
    "version": 3
   },
   "file_extension": ".py",
   "mimetype": "text/x-python",
   "name": "python",
   "nbconvert_exporter": "python",
   "pygments_lexer": "ipython3",
   "version": "3.7.3"
  }
 },
 "nbformat": 4,
 "nbformat_minor": 2
}
